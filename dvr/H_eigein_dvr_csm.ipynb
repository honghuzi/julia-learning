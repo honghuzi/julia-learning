{
 "cells": [
  {
   "cell_type": "code",
   "execution_count": 1,
   "metadata": {
    "collapsed": true
   },
   "outputs": [],
   "source": [
    "using PyPlot\n",
    "using FastGaussQuadrature"
   ]
  },
  {
   "cell_type": "markdown",
   "metadata": {},
   "source": [
    "# grid variables"
   ]
  },
  {
   "cell_type": "code",
   "execution_count": 2,
   "metadata": {},
   "outputs": [
    {
     "data": {
      "text/plain": [
       "1.0"
      ]
     },
     "execution_count": 2,
     "metadata": {},
     "output_type": "execute_result"
    }
   ],
   "source": [
    "const Nb = 1000\n",
    "const Np = Nb + 1\n",
    "const lmax = 2^6 - 1\n",
    "const Lo = 40.0\n",
    "const rmax = 8000.0\n",
    "const Z = 1.0"
   ]
  },
  {
   "cell_type": "code",
   "execution_count": 3,
   "metadata": {
    "scrolled": true
   },
   "outputs": [
    {
     "name": "stdout",
     "output_type": "stream",
     "text": [
      "  8.600684 seconds (6.12 M allocations: 281.069 MB, 2.32% gc time)\n",
      "  0.000018 seconds (7 allocations: 8.141 KB)\n"
     ]
    }
   ],
   "source": [
    "@time xi, wi = gausslobatto(Np)\n",
    "@time xi = xi[2:Nb+1]; wi = wi[2:Nb+1];"
   ]
  },
  {
   "cell_type": "code",
   "execution_count": 4,
   "metadata": {},
   "outputs": [
    {
     "data": {
      "text/plain": [
       "potential (generic function with 1 method)"
      ]
     },
     "execution_count": 4,
     "metadata": {},
     "output_type": "execute_result"
    }
   ],
   "source": [
    "potential(r::Array{Float64, 1}, l::Int64, Z::Float64) = 0.5(l*(l+1))./r.^2 - Z./r"
   ]
  },
  {
   "cell_type": "code",
   "execution_count": 5,
   "metadata": {
    "scrolled": false
   },
   "outputs": [
    {
     "data": {
      "text/plain": [
       "r (generic function with 1 method)"
      ]
     },
     "execution_count": 5,
     "metadata": {},
     "output_type": "execute_result"
    }
   ],
   "source": [
    "r(x::Array{Float64, 1}) = Lo*(1 .+ x)./(1 .- x + 2*Lo/rmax)"
   ]
  },
  {
   "cell_type": "code",
   "execution_count": 48,
   "metadata": {},
   "outputs": [
    {
     "data": {
      "text/plain": [
       "drdx (generic function with 1 method)"
      ]
     },
     "execution_count": 48,
     "metadata": {},
     "output_type": "execute_result"
    }
   ],
   "source": [
    "drdx(x::Array{Float64, 1}) = Lo./(1.-x+2*Lo/rmax) + Lo.*(1.+x)./(1-x+2Lo/rmax).^2"
   ]
  },
  {
   "cell_type": "code",
   "execution_count": 6,
   "metadata": {
    "scrolled": true
   },
   "outputs": [
    {
     "name": "stdout",
     "output_type": "stream",
     "text": [
      "  0.044366 seconds (20.59 k allocations: 5.322 MB, 14.34% gc time)\n"
     ]
    }
   ],
   "source": [
    "V = zeros(Nb, lmax+1)\n",
    "@time for l in 0:lmax\n",
    "    V[:, l+1] = potential(r(xi), l, Z);\n",
    "end"
   ]
  },
  {
   "cell_type": "code",
   "execution_count": 7,
   "metadata": {
    "collapsed": true
   },
   "outputs": [
    {
     "data": {
      "image/png": "[encoded data removed]",
      "text/plain": [
       "PyPlot.Figure(PyObject <matplotlib.figure.Figure object at 0x0000000026BA8630>)"
      ]
     },
     "metadata": {},
     "output_type": "display_data"
    },
    {
     "data": {
      "text/plain": [
       "1-element Array{Any,1}:\n",
       " PyObject <matplotlib.lines.Line2D object at 0x0000000026EC3B38>"
      ]
     },
     "execution_count": 7,
     "metadata": {},
     "output_type": "execute_result"
    }
   ],
   "source": [
    "plot(r(xi), V[:, end])\n",
    "# axis([0, 100, -2, 1])\n",
    "# ylim([-1, 1])\n",
    "# xlim([0, 1])"
   ]
  },
  {
   "cell_type": "code",
   "execution_count": 45,
   "metadata": {},
   "outputs": [
    {
     "name": "stdout",
     "output_type": "stream",
     "text": [
      "  0.563604 seconds (12.59 M allocations: 257.642 MB, 5.87% gc time)\n"
     ]
    }
   ],
   "source": [
    "# function eigen(U, V, xi, E0, Z, Nk)\n",
    "@time begin\n",
    "    H = zeros(Nb, Nb)\n",
    "    H0 = similar(H)\n",
    "    Dxx = similar(H)\n",
    "    U = zeros(Nb, Nb, lmax+1)\n",
    "    rx = drdx(x)\n",
    "    for i in 1:Nb\n",
    "        for j in union(1:i-1, i+1:Nb)\n",
    "            Dxx[i, j] = -2/(xi[i]-xi[j])^2\n",
    "        end\n",
    "        Dxx[i, i] = -(Np*(Np+1))/3(1-xi[i]^2)\n",
    "    end\n",
    "    for l in 0:lmax\n",
    "        for i in 1:Nb\n",
    "            for j in i:Nb\n",
    "                H[i,j] = -0.5/rx[i]*Dxx[i,j]/rx[j]\n",
    "            end\n",
    "            H[i, i] += V[i, l]\n",
    "        end\n",
    "        eig(H)\n",
    "end"
   ]
  }
 ],
 "metadata": {
  "anaconda-cloud": {},
  "kernelspec": {
   "display_name": "Julia 0.5.2",
   "language": "julia",
   "name": "julia-0.5"
  },
  "language_info": {
   "file_extension": ".jl",
   "mimetype": "application/julia",
   "name": "julia",
   "version": "0.5.0"
  }
 },
 "nbformat": 4,
 "nbformat_minor": 1
}
